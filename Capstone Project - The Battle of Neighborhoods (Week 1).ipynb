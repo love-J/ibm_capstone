{
 "cells": [
  {
   "cell_type": "markdown",
   "metadata": {},
   "source": [
    "<h1>Capstone Project - The Battle of Neighborhoods (Week 1) </h1>"
   ]
  },
  {
   "cell_type": "markdown",
   "metadata": {},
   "source": [
    "<h3>Description of the problem and a discussion of the background</h3>"
   ]
  },
  {
   "cell_type": "markdown",
   "metadata": {},
   "source": [
    "<h4>The best item to run a store in the most populous city in Canada</h4>"
   ]
  },
  {
   "cell_type": "markdown",
   "metadata": {},
   "source": [
    "Toronto is an international centre of business, finance, arts, and culture, and is recognized as one of the most multicultural and cosmopolitan cities in the world.\n",
    "I would like to study the best store for every neighborhood of boroughs seeing the present condition of stores and studying the the reviews of customers. \n"
   ]
  },
  {
   "cell_type": "markdown",
   "metadata": {},
   "source": [
    "<h4>Description of the data and the usage of it</h4>"
   ]
  },
  {
   "cell_type": "markdown",
   "metadata": {},
   "source": [
    "1. The Toronto's geographical information will be used for defining boroughs and their neighborhoods\n",
    "<br> https://en.wikipedia.org/wiki/List_of_postal_codes_of_Canada:_M"
   ]
  },
  {
   "cell_type": "markdown",
   "metadata": {},
   "source": [
    "Example code: \n",
    "opener = urllib.request.FancyURLopener({})\n",
    "url = 'https://en.wikipedia.org/wiki/List_of_postal_codes_of_Canada:_M'\n",
    "f = pd.read_html(url,header=0)\n",
    "df = pd.DataFrame(f[0])\n",
    "df.head()"
   ]
  },
  {
   "cell_type": "markdown",
   "metadata": {},
   "source": [
    "2. The Latitude and Longitude information for each Boroughs. \n",
    "<br> http://cocl.us/Geospatial_data"
   ]
  },
  {
   "cell_type": "markdown",
   "metadata": {},
   "source": [
    "Example code: \n",
    "<br>\n",
    "coordinates = requests.get(\"http://cocl.us/Geospatial_data\").content\n",
    "coor = pd.read_csv(io.StringIO(coordinates.decode('utf-8')))"
   ]
  },
  {
   "cell_type": "markdown",
   "metadata": {},
   "source": [
    "3. The library to get the map of Toronto\n",
    "<br> Folium Map"
   ]
  },
  {
   "cell_type": "markdown",
   "metadata": {},
   "source": [
    "Example code \n",
    "<br>!conda install -c conda-forge folium=0.5.0 --yes \n",
    "<br>import folium "
   ]
  },
  {
   "cell_type": "markdown",
   "metadata": {},
   "source": [
    "4. The store information of Toronto and their categories\n",
    "<br> https://api.foursquare.com/"
   ]
  },
  {
   "cell_type": "markdown",
   "metadata": {},
   "source": [
    "Example code\n",
    "<br> url = 'https://api.foursquare.com/v2/venues/explore?&client_id={}&client_secret={}&v={}&ll={},{}&radius={}&limit={}'.format(\n",
    "    CLIENT_ID, \n",
    "    CLIENT_SECRET, \n",
    "    VERSION, \n",
    "    neighborhood_latitude, \n",
    "    neighborhood_longitude, \n",
    "    radius, \n",
    "    LIMIT)"
   ]
  },
  {
   "cell_type": "markdown",
   "metadata": {},
   "source": [
    "5. Methodology and Exploratory Data Analysis\n",
    "    - Data Analysis : Using Pandas and Numpy, analize the dataframes about Toronto\n",
    "    - Visualization : Using matplotlib and python mapping libraries, identify the cities and neighborhoods. "
   ]
  },
  {
   "cell_type": "markdown",
   "metadata": {},
   "source": [
    "<h4> Result</h4>"
   ]
  },
  {
   "cell_type": "markdown",
   "metadata": {},
   "source": [
    "As you can see below, all neighborhoods has their own most preferred shops. And the shops categories make the listings according to the popularity. \n",
    "I recommend to make use of this data before running a new business in a town to think of the business suitability and the feasibility."
   ]
  },
  {
   "cell_type": "markdown",
   "metadata": {},
   "source": [
    "<h4>Conclusion</h4> "
   ]
  },
  {
   "cell_type": "markdown",
   "metadata": {},
   "source": [
    "Clustering data for a specific information to analyze Toronto's most popular stores, I have used different data sources and chose some methods. \n",
    "The Result shows the outcome of data processing, data visualization and analysis. And I hope to make use of this data for making a predition model to tell future business runners about the feasibility of their business item. \n",
    "Developing insight to understand our society to understand the present condition, I want to proceed to make a better source for our society's better future. \n",
    "Thank you for your reading. "
   ]
  },
  {
   "cell_type": "code",
   "execution_count": null,
   "metadata": {},
   "outputs": [],
   "source": []
  }
 ],
 "metadata": {
  "kernelspec": {
   "display_name": "Python 3",
   "language": "python",
   "name": "python3"
  },
  "language_info": {
   "codemirror_mode": {
    "name": "ipython",
    "version": 3
   },
   "file_extension": ".py",
   "mimetype": "text/x-python",
   "name": "python",
   "nbconvert_exporter": "python",
   "pygments_lexer": "ipython3",
   "version": "3.7.2"
  }
 },
 "nbformat": 4,
 "nbformat_minor": 2
}
